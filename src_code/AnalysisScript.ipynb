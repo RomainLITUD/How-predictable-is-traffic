{
 "cells": [
  {
   "cell_type": "code",
   "execution_count": null,
   "id": "8638aa7d",
   "metadata": {},
   "outputs": [],
   "source": [
    "from __future__ import print_function\n",
    "import os\n",
    "import tensorflow as tf\n",
    "from matplotlib import pyplot as plt\n",
    "%matplotlib inline\n",
    "from custom_model.predictor import *\n",
    "from custom_model.losses import *\n",
    "from custom_model.datagen import *\n",
    "from custom_model.inference import *\n",
    "import numpy as np\n",
    "import keras\n",
    "from keras.optimizers import Adam\n",
    "import os\n",
    "from scipy.stats import beta\n",
    "from scipy.stats import moment\n",
    "\n",
    "from config import *\n",
    "os.environ['TF_CPP_MIN_LOG_LEVEL'] = '3' \n",
    "tf.get_logger().setLevel('INFO')\n",
    "\n",
    "import warnings\n",
    "warnings.filterwarnings(\"ignore\")\n",
    "import time"
   ]
  },
  {
   "cell_type": "code",
   "execution_count": null,
   "id": "0884938c",
   "metadata": {},
   "outputs": [],
   "source": [
    "para['normalize'] = 0\n",
    "testin_gen = DataGenerator(para, 8, 'testin')\n",
    "testout_gen = DataGenerator(para, 8, 'testout')\n",
    "x1 = testin_gen.x\n",
    "y1 = testin_gen.y\n",
    "\n",
    "x2 = testout_gen.x\n",
    "y2 = testout_gen.y\n",
    "\n",
    "\n",
    "data1 = np.load('./result/2019.npz')\n",
    "a1 = data1['A']\n",
    "b1 = data1['B']\n",
    "\n",
    "data2 = np.load('./result/2022.npz')\n",
    "a2 = data2['A']\n",
    "b2 = data2['B']\n",
    "\n",
    "\n",
    "mu1, var1 = beta.stats(a1, b1, scale=130, moments='mv')\n",
    "mu2, var2 = beta.stats(a2, b2, scale=130, moments='mv')\n",
    "\n",
    "yp1 = np.mean(mu1, 0)\n",
    "alea1 = np.mean(var1, 0)\n",
    "epis1 = np.var(mu1, 0)\n",
    "\n",
    "yp2 = np.mean(mu2, 0)\n",
    "alea2 = np.mean(var2, 0)\n",
    "epis2 = np.var(mu2, 0)\n",
    "\n",
    "k1 = np.mean((a1-1)/(a1+b1-2), 0)"
   ]
  },
  {
   "cell_type": "code",
   "execution_count": null,
   "id": "93f2182b",
   "metadata": {},
   "outputs": [],
   "source": [
    "data1 = np.load('./result/2019f.npz')\n",
    "Ua1 = data1['Ua']\n",
    "Ue1 = data1['Ue']\n",
    "\n",
    "data2 = np.load('./result/2022f.npz')\n",
    "Ua2 = data2['Ua']\n",
    "Ue2 = data2['Ue']"
   ]
  }
 ],
 "metadata": {
  "kernelspec": {
   "display_name": "Python 3 (ipykernel)",
   "language": "python",
   "name": "python3"
  },
  "language_info": {
   "codemirror_mode": {
    "name": "ipython",
    "version": 3
   },
   "file_extension": ".py",
   "mimetype": "text/x-python",
   "name": "python",
   "nbconvert_exporter": "python",
   "pygments_lexer": "ipython3",
   "version": "3.9.12"
  }
 },
 "nbformat": 4,
 "nbformat_minor": 5
}
