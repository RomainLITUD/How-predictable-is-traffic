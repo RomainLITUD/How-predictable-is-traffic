{
 "cells": [
  {
   "cell_type": "code",
   "execution_count": null,
   "id": "c6708d46",
   "metadata": {},
   "outputs": [],
   "source": [
    "from __future__ import print_function\n",
    "import os\n",
    "import tensorflow as tf\n",
    "from matplotlib import pyplot as plt\n",
    "%matplotlib inline\n",
    "from custom_model.predictor import *\n",
    "from custom_model.losses import *\n",
    "from custom_model.datagen import *\n",
    "from custom_model.inference import *\n",
    "import numpy as np\n",
    "import keras\n",
    "from keras.optimizers import Adam\n",
    "import os\n",
    "from config import *\n",
    "os.environ['TF_CPP_MIN_LOG_LEVEL'] = '3' \n",
    "tf.get_logger().setLevel('INFO')\n",
    "\n",
    "import warnings\n",
    "warnings.filterwarnings(\"ignore\")\n",
    "import time"
   ]
  },
  {
   "cell_type": "code",
   "execution_count": null,
   "id": "99c082e4",
   "metadata": {},
   "outputs": [],
   "source": [
    "# run this section to train an ensemble of 15 beta-regression models\n",
    "para['mode'] = 'spatialattention'\n",
    "para['modelnorm'] = 'batch' #'layer'\n",
    "para['epoches'] = 64\n",
    "para['output_form'] = 'beta'\n",
    "para['normalize'] = 1\n",
    "para['batch_size'] = 8\n",
    "para['adajacency_range'] = 5\n",
    "para['nb_classes'] = 131\n",
    "para['nb_blocks'] = 10\n",
    "para['pred']=10\n",
    "para['interval'] = 1\n",
    "para['time_length'] = 5\n",
    "\n",
    "BATCH_SIZE = para['batch_size']\n",
    "EPOCH_NUMBER = para['epochs']\n",
    "train_gen = DataGenerator(para, BATCH_SIZE, 'train')\n",
    "val_gen = DataGenerator(para, BATCH_SIZE, 'val')\n",
    "\n",
    "def scheduler(epoch):\n",
    "   return 0.001*tf.math.exp(-epoch*0.07)\n",
    "    \n",
    "callback = tf.keras.callbacks.LearningRateScheduler(scheduler)\n",
    "for i in range(15):\n",
    "    model = build_crossmodel(para)\n",
    "    model.compile(loss = nll_beta(),\n",
    "                  optimizer=Adam())\n",
    "\n",
    "    history = model.fit(train_gen, validation_data = val_gen, validation_freq=3,\n",
    "              epochs=30, callbacks=[callback], verbose='auto')\n",
    "    model.save_weights('./DE/beta/model'+str(i)+'/model')"
   ]
  },
  {
   "cell_type": "code",
   "execution_count": null,
   "id": "84c32312",
   "metadata": {},
   "outputs": [],
   "source": [
    "# run this section to train several histogram-regression models\n",
    "para['mode'] = 'dgc'\n",
    "para['modelnorm'] = 'batch'\n",
    "para['epoches'] = 64\n",
    "para['output_form'] = 'histogram'\n",
    "para['normalize'] = 1\n",
    "para['batch_size'] = 8\n",
    "para['adajacency_range'] = 5\n",
    "para['nb_classes'] = 131\n",
    "para['nb_blocks'] = 10\n",
    "para['pred']=10\n",
    "para['interval'] = 1\n",
    "para['time_length'] = 5\n",
    "\n",
    "BATCH_SIZE = para['batch_size']\n",
    "EPOCH_NUMBER = para['epochs']\n",
    "train_gen = DataGenerator(para, BATCH_SIZE, 'train')\n",
    "val_gen = DataGenerator(para, BATCH_SIZE, 'val')\n",
    "\n",
    "def scheduler(epoch):\n",
    "   return 0.001*tf.math.exp(-epoch*0.085)\n",
    "    \n",
    "callback = tf.keras.callbacks.LearningRateScheduler(scheduler)\n",
    "for i in range(5):\n",
    "    model = build_model(para)\n",
    "    model.compile(loss = focal_loss(),\n",
    "                  optimizer=Adam())\n",
    "\n",
    "    history = model.fit(train_gen, validation_data = val_gen, validation_freq=3,\n",
    "              epochs=30, callbacks=[callback], verbose='auto')\n",
    "    model.save_weights('./DE/histogramf/model'+str(i)+'/model')"
   ]
  },
  {
   "cell_type": "code",
   "execution_count": null,
   "id": "6d131229",
   "metadata": {},
   "outputs": [],
   "source": [
    "# an example code to run the inference and save the parameters\n",
    "test_gen = DataGenerator(para, BATCH_SIZE, 'testin')\n",
    "A, B, Y = EnsembleInference(test_gen, para, nb_ensemble=10)\n",
    "np.savez_compressed('./result/2019', A=A, B=B, Y=Y)"
   ]
  }
 ],
 "metadata": {
  "kernelspec": {
   "display_name": "Python 3 (ipykernel)",
   "language": "python",
   "name": "python3"
  },
  "language_info": {
   "codemirror_mode": {
    "name": "ipython",
    "version": 3
   },
   "file_extension": ".py",
   "mimetype": "text/x-python",
   "name": "python",
   "nbconvert_exporter": "python",
   "pygments_lexer": "ipython3",
   "version": "3.9.12"
  }
 },
 "nbformat": 4,
 "nbformat_minor": 5
}
